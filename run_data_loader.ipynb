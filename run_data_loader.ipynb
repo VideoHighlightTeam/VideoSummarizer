{
 "cells": [
  {
   "cell_type": "markdown",
   "metadata": {},
   "source": [
    "# 데이터로더 테스트"
   ]
  },
  {
   "cell_type": "code",
   "execution_count": 2,
   "metadata": {},
   "outputs": [],
   "source": [
    "from data_loader import DataLoader\n",
    "from collections import Counter"
   ]
  },
  {
   "cell_type": "markdown",
   "metadata": {},
   "source": [
    "## 데이터로더 생성"
   ]
  },
  {
   "cell_type": "code",
   "execution_count": 3,
   "metadata": {},
   "outputs": [],
   "source": [
    "dl = DataLoader(r'E:\\Work\\YasuoNet\\data\\dataset120_sl5_vsr3_vw64_vh64_asr11025')"
   ]
  },
  {
   "cell_type": "markdown",
   "metadata": {},
   "source": [
    "## 데이터 개수 확인"
   ]
  },
  {
   "cell_type": "code",
   "execution_count": 4,
   "metadata": {},
   "outputs": [
    {
     "data": {
      "text/html": [
       "<div>\n",
       "<style scoped>\n",
       "    .dataframe tbody tr th:only-of-type {\n",
       "        vertical-align: middle;\n",
       "    }\n",
       "\n",
       "    .dataframe tbody tr th {\n",
       "        vertical-align: top;\n",
       "    }\n",
       "\n",
       "    .dataframe thead th {\n",
       "        text-align: right;\n",
       "    }\n",
       "</style>\n",
       "<table border=\"1\" class=\"dataframe\">\n",
       "  <thead>\n",
       "    <tr style=\"text-align: right;\">\n",
       "      <th></th>\n",
       "      <th>title</th>\n",
       "      <th>name</th>\n",
       "      <th>index</th>\n",
       "      <th>label</th>\n",
       "      <th>path</th>\n",
       "      <th>subset</th>\n",
       "    </tr>\n",
       "  </thead>\n",
       "  <tbody>\n",
       "    <tr>\n",
       "      <th>0</th>\n",
       "      <td>20200205_KT_GEN_1</td>\n",
       "      <td>seg_00000_0</td>\n",
       "      <td>0</td>\n",
       "      <td>0</td>\n",
       "      <td>E:\\Work\\YasuoNet\\data\\dataset120_sl5_vsr3_vw64...</td>\n",
       "      <td>train</td>\n",
       "    </tr>\n",
       "    <tr>\n",
       "      <th>1</th>\n",
       "      <td>20200205_KT_GEN_1</td>\n",
       "      <td>seg_00001_0</td>\n",
       "      <td>1</td>\n",
       "      <td>0</td>\n",
       "      <td>E:\\Work\\YasuoNet\\data\\dataset120_sl5_vsr3_vw64...</td>\n",
       "      <td>train</td>\n",
       "    </tr>\n",
       "    <tr>\n",
       "      <th>2</th>\n",
       "      <td>20200205_KT_GEN_1</td>\n",
       "      <td>seg_00002_0</td>\n",
       "      <td>2</td>\n",
       "      <td>0</td>\n",
       "      <td>E:\\Work\\YasuoNet\\data\\dataset120_sl5_vsr3_vw64...</td>\n",
       "      <td>train</td>\n",
       "    </tr>\n",
       "    <tr>\n",
       "      <th>3</th>\n",
       "      <td>20200205_KT_GEN_1</td>\n",
       "      <td>seg_00003_0</td>\n",
       "      <td>3</td>\n",
       "      <td>0</td>\n",
       "      <td>E:\\Work\\YasuoNet\\data\\dataset120_sl5_vsr3_vw64...</td>\n",
       "      <td>train</td>\n",
       "    </tr>\n",
       "    <tr>\n",
       "      <th>4</th>\n",
       "      <td>20200205_KT_GEN_1</td>\n",
       "      <td>seg_00004_0</td>\n",
       "      <td>4</td>\n",
       "      <td>0</td>\n",
       "      <td>E:\\Work\\YasuoNet\\data\\dataset120_sl5_vsr3_vw64...</td>\n",
       "      <td>train</td>\n",
       "    </tr>\n",
       "    <tr>\n",
       "      <th>...</th>\n",
       "      <td>...</td>\n",
       "      <td>...</td>\n",
       "      <td>...</td>\n",
       "      <td>...</td>\n",
       "      <td>...</td>\n",
       "      <td>...</td>\n",
       "    </tr>\n",
       "    <tr>\n",
       "      <th>90437</th>\n",
       "      <td>20200425_GEN_T1_3</td>\n",
       "      <td>seg_00814_0</td>\n",
       "      <td>814</td>\n",
       "      <td>0</td>\n",
       "      <td>E:\\Work\\YasuoNet\\data\\dataset120_sl5_vsr3_vw64...</td>\n",
       "      <td>train</td>\n",
       "    </tr>\n",
       "    <tr>\n",
       "      <th>90438</th>\n",
       "      <td>20200425_GEN_T1_3</td>\n",
       "      <td>seg_00815_0</td>\n",
       "      <td>815</td>\n",
       "      <td>0</td>\n",
       "      <td>E:\\Work\\YasuoNet\\data\\dataset120_sl5_vsr3_vw64...</td>\n",
       "      <td>train</td>\n",
       "    </tr>\n",
       "    <tr>\n",
       "      <th>90439</th>\n",
       "      <td>20200425_GEN_T1_3</td>\n",
       "      <td>seg_00816_0</td>\n",
       "      <td>816</td>\n",
       "      <td>0</td>\n",
       "      <td>E:\\Work\\YasuoNet\\data\\dataset120_sl5_vsr3_vw64...</td>\n",
       "      <td>train</td>\n",
       "    </tr>\n",
       "    <tr>\n",
       "      <th>90440</th>\n",
       "      <td>20200425_GEN_T1_3</td>\n",
       "      <td>seg_00817_0</td>\n",
       "      <td>817</td>\n",
       "      <td>0</td>\n",
       "      <td>E:\\Work\\YasuoNet\\data\\dataset120_sl5_vsr3_vw64...</td>\n",
       "      <td>train</td>\n",
       "    </tr>\n",
       "    <tr>\n",
       "      <th>90441</th>\n",
       "      <td>20200425_GEN_T1_3</td>\n",
       "      <td>seg_00818_0</td>\n",
       "      <td>818</td>\n",
       "      <td>0</td>\n",
       "      <td>E:\\Work\\YasuoNet\\data\\dataset120_sl5_vsr3_vw64...</td>\n",
       "      <td>train</td>\n",
       "    </tr>\n",
       "  </tbody>\n",
       "</table>\n",
       "<p>90442 rows × 6 columns</p>\n",
       "</div>"
      ],
      "text/plain": [
       "                   title         name  index  label  \\\n",
       "0      20200205_KT_GEN_1  seg_00000_0      0      0   \n",
       "1      20200205_KT_GEN_1  seg_00001_0      1      0   \n",
       "2      20200205_KT_GEN_1  seg_00002_0      2      0   \n",
       "3      20200205_KT_GEN_1  seg_00003_0      3      0   \n",
       "4      20200205_KT_GEN_1  seg_00004_0      4      0   \n",
       "...                  ...          ...    ...    ...   \n",
       "90437  20200425_GEN_T1_3  seg_00814_0    814      0   \n",
       "90438  20200425_GEN_T1_3  seg_00815_0    815      0   \n",
       "90439  20200425_GEN_T1_3  seg_00816_0    816      0   \n",
       "90440  20200425_GEN_T1_3  seg_00817_0    817      0   \n",
       "90441  20200425_GEN_T1_3  seg_00818_0    818      0   \n",
       "\n",
       "                                                    path subset  \n",
       "0      E:\\Work\\YasuoNet\\data\\dataset120_sl5_vsr3_vw64...  train  \n",
       "1      E:\\Work\\YasuoNet\\data\\dataset120_sl5_vsr3_vw64...  train  \n",
       "2      E:\\Work\\YasuoNet\\data\\dataset120_sl5_vsr3_vw64...  train  \n",
       "3      E:\\Work\\YasuoNet\\data\\dataset120_sl5_vsr3_vw64...  train  \n",
       "4      E:\\Work\\YasuoNet\\data\\dataset120_sl5_vsr3_vw64...  train  \n",
       "...                                                  ...    ...  \n",
       "90437  E:\\Work\\YasuoNet\\data\\dataset120_sl5_vsr3_vw64...  train  \n",
       "90438  E:\\Work\\YasuoNet\\data\\dataset120_sl5_vsr3_vw64...  train  \n",
       "90439  E:\\Work\\YasuoNet\\data\\dataset120_sl5_vsr3_vw64...  train  \n",
       "90440  E:\\Work\\YasuoNet\\data\\dataset120_sl5_vsr3_vw64...  train  \n",
       "90441  E:\\Work\\YasuoNet\\data\\dataset120_sl5_vsr3_vw64...  train  \n",
       "\n",
       "[90442 rows x 6 columns]"
      ]
     },
     "execution_count": 4,
     "metadata": {},
     "output_type": "execute_result"
    }
   ],
   "source": [
    "dl.all_segment_df"
   ]
  },
  {
   "cell_type": "code",
   "execution_count": 5,
   "metadata": {},
   "outputs": [
    {
     "data": {
      "text/plain": [
       "train    70\n",
       "test     27\n",
       "valid    23\n",
       "Name: subset, dtype: int64"
      ]
     },
     "execution_count": 5,
     "metadata": {},
     "output_type": "execute_result"
    }
   ],
   "source": [
    "df = dl.all_segment_df\n",
    "df[df['index'] == 0]['subset'].value_counts()"
   ]
  },
  {
   "cell_type": "markdown",
   "metadata": {},
   "source": [
    "### 전체 데이터 수"
   ]
  },
  {
   "cell_type": "code",
   "execution_count": 4,
   "metadata": {},
   "outputs": [
    {
     "data": {
      "text/plain": [
       "90442"
      ]
     },
     "execution_count": 4,
     "metadata": {},
     "output_type": "execute_result"
    }
   ],
   "source": [
    "all_data_count = dl.get_all_data_count()\n",
    "all_data_count"
   ]
  },
  {
   "cell_type": "markdown",
   "metadata": {},
   "source": [
    "### 레이블 별 데이터 수"
   ]
  },
  {
   "cell_type": "code",
   "execution_count": 5,
   "metadata": {},
   "outputs": [
    {
     "name": "stdout",
     "output_type": "stream",
     "text": [
      "label 0: 81026 (0.8959 %)\n",
      "label 1: 9416 (0.1041 %)\n"
     ]
    }
   ],
   "source": [
    "count_0 = dl.get_data_count_by_label(0)\n",
    "count_1 = dl.get_data_count_by_label(1)\n",
    "print(f'label 0: {count_0} ({count_0 / all_data_count:.4f} %)')\n",
    "print(f'label 1: {count_1} ({count_1 / all_data_count:.4f} %)')"
   ]
  },
  {
   "cell_type": "markdown",
   "metadata": {},
   "source": [
    "### 학습/검증/테스트 데이터 수"
   ]
  },
  {
   "cell_type": "code",
   "execution_count": 6,
   "metadata": {},
   "outputs": [
    {
     "name": "stdout",
     "output_type": "stream",
     "text": [
      "train: 53348 (0.5899 %)\n",
      "train: 17233 (0.1905 %)\n",
      "train: 19861 (0.2196 %)\n"
     ]
    }
   ],
   "source": [
    "count_train = dl.get_train_data_count()\n",
    "count_valid = dl.get_valid_data_count()\n",
    "count_test = dl.get_test_data_count()\n",
    "print(f'train: {count_train} ({count_train / all_data_count:.4f} %)')\n",
    "print(f'train: {count_valid} ({count_valid / all_data_count:.4f} %)')\n",
    "print(f'train: {count_test} ({count_test / all_data_count:.4f} %)')"
   ]
  },
  {
   "cell_type": "markdown",
   "metadata": {},
   "source": [
    "## 학습 배치 데이터 로드"
   ]
  },
  {
   "cell_type": "code",
   "execution_count": 14,
   "metadata": {},
   "outputs": [
    {
     "name": "stdout",
     "output_type": "stream",
     "text": [
      "0 5000 5000 Counter({0: 4493, 1: 507})\n",
      "1 5000 5000 Counter({0: 4493, 1: 507})\n",
      "2 5000 5000 Counter({0: 4493, 1: 507})\n",
      "3 5000 5000 Counter({0: 4493, 1: 507})\n",
      "4 5000 5000 Counter({0: 4493, 1: 507})\n",
      "5 5000 5000 Counter({0: 4493, 1: 507})\n",
      "6 5000 5000 Counter({0: 4493, 1: 507})\n",
      "7 5000 5000 Counter({0: 4493, 1: 507})\n",
      "8 5000 5000 Counter({0: 4493, 1: 507})\n",
      "9 5000 5000 Counter({0: 4493, 1: 507})\n"
     ]
    }
   ],
   "source": [
    "dl_train_iter = dl.iter_train_batch_data(5000)\n",
    "\n",
    "for i, (batch_x, batch_y) in enumerate(dl_train_iter):\n",
    "    print(i, len(batch_x), len(batch_y), Counter(batch_y))"
   ]
  },
  {
   "cell_type": "markdown",
   "metadata": {},
   "source": [
    "## 검증 배치 데이터 로드"
   ]
  },
  {
   "cell_type": "code",
   "execution_count": 8,
   "metadata": {
    "scrolled": false
   },
   "outputs": [
    {
     "name": "stdout",
     "output_type": "stream",
     "text": [
      "0 5000 5000 Counter({0: 4570, 1: 430})\n",
      "1 5000 5000 Counter({0: 4349, 1: 651})\n",
      "2 5000 5000 Counter({0: 4466, 1: 534})\n",
      "3 2233 2233 Counter({0: 1991, 1: 242})\n"
     ]
    }
   ],
   "source": [
    "dl_valid_iter = dl.iter_valid_batch_data(5000)\n",
    "\n",
    "for i, (batch_x, batch_y) in enumerate(dl_valid_iter):\n",
    "    print(i, len(batch_x), len(batch_y), Counter(batch_y))"
   ]
  },
  {
   "cell_type": "markdown",
   "metadata": {},
   "source": [
    "## 테스트 배치 데이터 로드"
   ]
  },
  {
   "cell_type": "code",
   "execution_count": 13,
   "metadata": {},
   "outputs": [
    {
     "name": "stdout",
     "output_type": "stream",
     "text": [
      "0 5000 5000 Counter({0: 4445, 1: 555})\n",
      "1 5000 5000 Counter({0: 4471, 1: 529})\n",
      "2 5000 5000 Counter({0: 4430, 1: 570})\n",
      "3 4861 4861 Counter({0: 4365, 1: 496})\n"
     ]
    }
   ],
   "source": [
    "dl_test_iter = dl.iter_test_batch_data(5000)\n",
    "\n",
    "for i, (batch_x, batch_y) in enumerate(dl_test_iter):\n",
    "    print(i, len(batch_x), len(batch_y), Counter(batch_y))"
   ]
  },
  {
   "cell_type": "markdown",
   "metadata": {},
   "source": [
    "## 전체 배치 데이터 로드 (별도의 prediction용 데이터셋에 사용)"
   ]
  },
  {
   "cell_type": "code",
   "execution_count": 9,
   "metadata": {},
   "outputs": [
    {
     "name": "stdout",
     "output_type": "stream",
     "text": [
      "0 5000 5000 Counter({0: 4456, 1: 544})\n",
      "1 5000 5000 Counter({0: 4569, 1: 431})\n",
      "2 5000 5000 Counter({0: 4521, 1: 479})\n",
      "3 5000 5000 Counter({0: 4479, 1: 521})\n",
      "4 5000 5000 Counter({0: 4556, 1: 444})\n",
      "5 5000 5000 Counter({0: 4513, 1: 487})\n",
      "6 5000 5000 Counter({0: 4465, 1: 535})\n",
      "7 5000 5000 Counter({0: 4407, 1: 593})\n",
      "8 5000 5000 Counter({0: 4495, 1: 505})\n",
      "9 5000 5000 Counter({0: 4500, 1: 500})\n",
      "10 5000 5000 Counter({0: 4469, 1: 531})\n",
      "11 5000 5000 Counter({0: 4393, 1: 607})\n",
      "12 5000 5000 Counter({0: 4475, 1: 525})\n",
      "13 5000 5000 Counter({0: 4414, 1: 586})\n",
      "14 5000 5000 Counter({0: 4508, 1: 492})\n",
      "15 5000 5000 Counter({0: 4433, 1: 567})\n",
      "16 5000 5000 Counter({0: 4465, 1: 535})\n",
      "17 5000 5000 Counter({0: 4489, 1: 511})\n",
      "18 442 442 Counter({0: 419, 1: 23})\n"
     ]
    }
   ],
   "source": [
    "dl_all_iter = dl.iter_all_batch_data(5000)\n",
    "\n",
    "for i, (batch_x, batch_y) in enumerate(dl_all_iter):\n",
    "    print(i, len(batch_x), len(batch_y), Counter(batch_y))"
   ]
  },
  {
   "cell_type": "markdown",
   "metadata": {},
   "source": [
    "## Small DataSet\n",
    "dataset14_sl5_vsr3_vw64_vh64_asr11025"
   ]
  },
  {
   "cell_type": "code",
   "execution_count": 22,
   "metadata": {},
   "outputs": [
    {
     "name": "stdout",
     "output_type": "stream",
     "text": [
      "0         20200205_KT_GEN_1\n",
      "938       20200205_T1_DWG_1\n",
      "2844      20200206_GRF_AF_1\n",
      "7780     20200208_APK_DWG_1\n",
      "9220     20200208_GEN_GRF_1\n",
      "9909      20200209_AF_HLE_3\n",
      "10664     20200209_SB_DRX_3\n",
      "11519     20200212_APK_AF_1\n",
      "Name: title, dtype: object\n",
      "\n",
      "segment count: 7234\n"
     ]
    }
   ],
   "source": [
    "small_train_set = df[(df['index'] == 0) & (df['subset'] == 'train')]['title'][:8]\n",
    "print(small_train_set)\n",
    "print('\\nsegment count:', len(df[df['title'].isin(small_train_set)]))"
   ]
  },
  {
   "cell_type": "code",
   "execution_count": 20,
   "metadata": {},
   "outputs": [
    {
     "name": "stdout",
     "output_type": "stream",
     "text": [
      "5295      20200207_DRX_KT_3\n",
      "15355    20200214_GRF_APK_3\n",
      "20930     20200216_T1_GEN_2\n",
      "Name: title, dtype: object\n",
      "\n",
      "\n",
      "segment count: 2281\n"
     ]
    }
   ],
   "source": [
    "small_valid_set = df[(df['index'] == 0) & (df['subset'] == 'valid')]['title'][:3]\n",
    "print(small_valid_set)\n",
    "print()\n",
    "print('\\nsegment count:', len(df[df['title'].isin(small_valid_set)]))"
   ]
  },
  {
   "cell_type": "code",
   "execution_count": 21,
   "metadata": {},
   "outputs": [
    {
     "name": "stdout",
     "output_type": "stream",
     "text": [
      "2017    20200205_T1_DWG_2\n",
      "3895    20200206_GRF_AF_2\n",
      "4638    20200207_DRX_KT_2\n",
      "Name: title, dtype: object\n",
      "\n",
      "segment count: 2227\n"
     ]
    }
   ],
   "source": [
    "small_test_set = df[(df['index'] == 0) & (df['subset'] == 'test')]['title'][:3]\n",
    "print(small_test_set)\n",
    "print('\\nsegment count:', len(df[df['title'].isin(small_test_set)]))"
   ]
  }
 ],
 "metadata": {
  "kernelspec": {
   "display_name": "Python [conda env:tf2] *",
   "language": "python",
   "name": "conda-env-tf2-py"
  },
  "language_info": {
   "codemirror_mode": {
    "name": "ipython",
    "version": 3
   },
   "file_extension": ".py",
   "mimetype": "text/x-python",
   "name": "python",
   "nbconvert_exporter": "python",
   "pygments_lexer": "ipython3",
   "version": "3.7.7"
  }
 },
 "nbformat": 4,
 "nbformat_minor": 4
}
