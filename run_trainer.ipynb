{
 "cells": [
  {
   "cell_type": "markdown",
   "metadata": {},
   "source": [
    "# Video Summarizer 모델 학습/평가 코드"
   ]
  },
  {
   "cell_type": "code",
   "execution_count": 1,
   "metadata": {},
   "outputs": [],
   "source": [
    "from data_loader import DataLoader\n",
    "from model import c3d_model as YasuoNet\n",
    "from trainer import Trainer\n",
    "from tensorflow.keras.optimizers import Adam\n",
    "import numpy as np\n",
    "import math"
   ]
  },
  {
   "cell_type": "markdown",
   "metadata": {},
   "source": [
    "## 하이퍼파라미터 설정"
   ]
  },
  {
   "cell_type": "code",
   "execution_count": 2,
   "metadata": {},
   "outputs": [],
   "source": [
    "dataset_dir = r'E:\\Work\\YasuoNet\\data\\dataset14_sl5_vsr3_vw64_vh64_asr11025'\n",
    "ckpt_dir = 'checkpoints'\n",
    "learning_rate = 1e-4\n",
    "epochs = 3\n",
    "batch_size = 500"
   ]
  },
  {
   "cell_type": "markdown",
   "metadata": {},
   "source": [
    "## 데이터 로더 생성"
   ]
  },
  {
   "cell_type": "code",
   "execution_count": 3,
   "metadata": {},
   "outputs": [
    {
     "data": {
      "text/plain": [
       "(14, 5, 5)"
      ]
     },
     "execution_count": 3,
     "metadata": {},
     "output_type": "execute_result"
    }
   ],
   "source": [
    "data_loader = DataLoader(dataset_dir)\n",
    "data_config = data_loader.get_metadata()['config']\n",
    "video_frames = int(data_config['segment_length'] * data_config['video_sample_rate'])\n",
    "video_width = data_config['video_width']\n",
    "video_height = data_config['video_height']\n",
    "video_channels = 3  # 향후 메타데이터에서 읽어오도록 수정\n",
    "\n",
    "# epoch 당 배치 수\n",
    "train_steps = data_loader.get_train_data_count() // batch_size\n",
    "valid_steps = math.ceil(data_loader.get_valid_data_count() / batch_size)\n",
    "test_steps = math.ceil(data_loader.get_test_data_count() / batch_size)\n",
    "train_steps, valid_steps, test_steps"
   ]
  },
  {
   "cell_type": "markdown",
   "metadata": {},
   "source": [
    "## 모델 생성"
   ]
  },
  {
   "cell_type": "code",
   "execution_count": 4,
   "metadata": {},
   "outputs": [],
   "source": [
    "model = YasuoNet(video_frames, video_width, video_height, video_channels)\n",
    "model.compile(Adam(learning_rate), loss='binary_crossentropy', metrics=['accuracy'])"
   ]
  },
  {
   "cell_type": "markdown",
   "metadata": {},
   "source": [
    "## 모델 학습"
   ]
  },
  {
   "cell_type": "code",
   "execution_count": 5,
   "metadata": {},
   "outputs": [
    {
     "name": "stdout",
     "output_type": "stream",
     "text": [
      "WARNING:tensorflow:sample_weight modes were coerced from\n",
      "  ...\n",
      "    to  \n",
      "  ['...']\n",
      "WARNING:tensorflow:sample_weight modes were coerced from\n",
      "  ...\n",
      "    to  \n",
      "  ['...']\n",
      "Train for 14 steps, validate for 5 steps\n",
      "Epoch 1/3\n",
      "13/14 [==========================>...] - ETA: 27s - loss: 0.6722 - accuracy: 0.8863\n",
      "Epoch 00001: val_loss improved from inf to 0.55933, saving model to checkpoints\\ckpt-0001-0.5593.hdf5\n",
      "14/14 [==============================] - 403s 29s/step - loss: 0.6684 - accuracy: 0.8880 - val_loss: 0.5593 - val_accuracy: 0.9237\n",
      "Epoch 2/3\n",
      "13/14 [==========================>...] - ETA: 27s - loss: 0.5763 - accuracy: 0.9100\n",
      "Epoch 00002: val_loss improved from 0.55933 to 0.49862, saving model to checkpoints\\ckpt-0002-0.4986.hdf5\n",
      "14/14 [==============================] - 404s 29s/step - loss: 0.5749 - accuracy: 0.9100 - val_loss: 0.4986 - val_accuracy: 0.9237\n",
      "Epoch 3/3\n",
      "13/14 [==========================>...] - ETA: 27s - loss: 0.5428 - accuracy: 0.9100\n",
      "Epoch 00003: val_loss improved from 0.49862 to 0.47307, saving model to checkpoints\\ckpt-0003-0.4731.hdf5\n",
      "14/14 [==============================] - 404s 29s/step - loss: 0.5406 - accuracy: 0.9100 - val_loss: 0.4731 - val_accuracy: 0.9237\n"
     ]
    }
   ],
   "source": [
    "trainer = Trainer(model, ckpt_dir, learning_rate, epochs)\n",
    "trainer.train(\n",
    "    data_loader.iter_train_batch_data(batch_size), train_steps,\n",
    "    data_loader.iter_valid_batch_data(batch_size), valid_steps\n",
    ")"
   ]
  },
  {
   "cell_type": "code",
   "execution_count": 6,
   "metadata": {},
   "outputs": [
    {
     "name": "stdout",
     "output_type": "stream",
     "text": [
      "WARNING:tensorflow:sample_weight modes were coerced from\n",
      "  ...\n",
      "    to  \n",
      "  ['...']\n",
      "5/5 [==============================] - 12s 2s/step - loss: 0.5232 - accuracy: 0.8904\n"
     ]
    }
   ],
   "source": [
    "trainer.test(data_loader.iter_test_batch_data(batch_size), test_steps)"
   ]
  },
  {
   "cell_type": "code",
   "execution_count": 38,
   "metadata": {},
   "outputs": [],
   "source": [
    "test_batch_iter = data_loader.iter_test_batch_data(batch_size, repeat=False)\n",
    "\n",
    "result = []\n",
    "for x, y in test_batch_iter:\n",
    "    pred = model.predict(x)\n",
    "    y_hat = (pred > 0.5) * 1\n",
    "\n",
    "    result.append(np.vstack([y.squeeze(), y_hat.squeeze()]).T)\n",
    "    \n",
    "result = np.vstack(result)"
   ]
  },
  {
   "cell_type": "code",
   "execution_count": 39,
   "metadata": {},
   "outputs": [
    {
     "data": {
      "text/plain": [
       "2227"
      ]
     },
     "execution_count": 39,
     "metadata": {},
     "output_type": "execute_result"
    }
   ],
   "source": [
    "len(result)"
   ]
  },
  {
   "cell_type": "code",
   "execution_count": 40,
   "metadata": {},
   "outputs": [
    {
     "data": {
      "text/plain": [
       "array([244,   0])"
      ]
     },
     "execution_count": 40,
     "metadata": {},
     "output_type": "execute_result"
    }
   ],
   "source": [
    "result.sum(axis=0)"
   ]
  }
 ],
 "metadata": {
  "kernelspec": {
   "display_name": "Python [conda env:tf2] *",
   "language": "python",
   "name": "conda-env-tf2-py"
  },
  "language_info": {
   "codemirror_mode": {
    "name": "ipython",
    "version": 3
   },
   "file_extension": ".py",
   "mimetype": "text/x-python",
   "name": "python",
   "nbconvert_exporter": "python",
   "pygments_lexer": "ipython3",
   "version": "3.7.7"
  }
 },
 "nbformat": 4,
 "nbformat_minor": 4
}
