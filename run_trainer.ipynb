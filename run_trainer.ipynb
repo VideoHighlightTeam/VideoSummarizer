{
 "cells": [
  {
   "cell_type": "markdown",
   "metadata": {},
   "source": [
    "# Video Summarizer 모델 학습/평가 코드"
   ]
  },
  {
   "cell_type": "code",
   "execution_count": 1,
   "metadata": {},
   "outputs": [],
   "source": [
    "import math\n",
    "from data_loader import DataLoader\n",
    "from model import c3d_model as YasuoNet\n",
    "from trainer import Trainer\n",
    "from tensorflow.keras.optimizers import Adam\n",
    "import numpy as np\n",
    "from sklearn.utils import class_weight"
   ]
  },
  {
   "cell_type": "markdown",
   "metadata": {},
   "source": [
    "## 하이퍼파라미터 설정"
   ]
  },
  {
   "cell_type": "code",
   "execution_count": 2,
   "metadata": {},
   "outputs": [],
   "source": [
    "dataset_dir = r'E:\\Work\\YasuoNet\\data\\dataset14_sl5_vsr3_vw64_vh64_asr11025'\n",
    "ckpt_dir = 'checkpoints'\n",
    "learning_rate = 1e-4\n",
    "epochs = 3\n",
    "batch_size = 500"
   ]
  },
  {
   "cell_type": "markdown",
   "metadata": {},
   "source": [
    "## 데이터 로더 생성"
   ]
  },
  {
   "cell_type": "code",
   "execution_count": 3,
   "metadata": {},
   "outputs": [
    {
     "data": {
      "text/plain": [
       "(14, 5, 5)"
      ]
     },
     "execution_count": 3,
     "metadata": {},
     "output_type": "execute_result"
    }
   ],
   "source": [
    "data_loader = DataLoader(dataset_dir)\n",
    "data_config = data_loader.get_metadata()['config']\n",
    "video_frames = int(data_config['segment_length'] * data_config['video_sample_rate'])\n",
    "video_width = data_config['video_width']\n",
    "video_height = data_config['video_height']\n",
    "video_channels = 3  # 향후 메타데이터에서 읽어오도록 수정\n",
    "\n",
    "# epoch 당 배치 수\n",
    "train_steps = data_loader.get_train_data_count() // batch_size\n",
    "valid_steps = math.ceil(data_loader.get_valid_data_count() / batch_size)\n",
    "test_steps = math.ceil(data_loader.get_test_data_count() / batch_size)\n",
    "train_steps, valid_steps, test_steps"
   ]
  },
  {
   "cell_type": "markdown",
   "metadata": {},
   "source": [
    "## 모델 생성"
   ]
  },
  {
   "cell_type": "code",
   "execution_count": 4,
   "metadata": {},
   "outputs": [],
   "source": [
    "model = YasuoNet(video_frames, video_width, video_height, video_channels)\n",
    "model.compile(Adam(learning_rate), loss='binary_crossentropy', metrics=['accuracy'])"
   ]
  },
  {
   "cell_type": "markdown",
   "metadata": {},
   "source": [
    "## 모델 학습"
   ]
  },
  {
   "cell_type": "code",
   "execution_count": 5,
   "metadata": {},
   "outputs": [
    {
     "data": {
      "text/plain": [
       "{0: 0.5496676341166558, 1: 5.533459000942507}"
      ]
     },
     "execution_count": 5,
     "metadata": {},
     "output_type": "execute_result"
    }
   ],
   "source": [
    "class_weights = class_weight.compute_class_weight('balanced', classes=[0, 1], y=data_loader.all_segment_df['label'].to_numpy())\n",
    "class_weights = {i: v for i, v in enumerate(class_weights)}\n",
    "class_weights"
   ]
  },
  {
   "cell_type": "code",
   "execution_count": 6,
   "metadata": {},
   "outputs": [
    {
     "name": "stdout",
     "output_type": "stream",
     "text": [
      "WARNING:tensorflow:sample_weight modes were coerced from\n",
      "  ...\n",
      "    to  \n",
      "  ['...']\n",
      "WARNING:tensorflow:sample_weight modes were coerced from\n",
      "  ...\n",
      "    to  \n",
      "  ['...']\n",
      "Train for 14 steps, validate for 5 steps\n",
      "Epoch 1/3\n",
      "13/14 [==========================>...] - ETA: 27s - loss: 0.6668 - accuracy: 0.8812\n",
      "Epoch 00001: val_loss improved from inf to 0.49288, saving model to checkpoints\\ckpt-0001-0.4929.hdf5\n",
      "14/14 [==============================] - 398s 28s/step - loss: 0.6592 - accuracy: 0.8833 - val_loss: 0.4929 - val_accuracy: 0.9237\n",
      "Epoch 2/3\n",
      "13/14 [==========================>...] - ETA: 27s - loss: 0.5166 - accuracy: 0.9100\n",
      "Epoch 00002: val_loss improved from 0.49288 to 0.45432, saving model to checkpoints\\ckpt-0002-0.4543.hdf5\n",
      "14/14 [==============================] - 400s 29s/step - loss: 0.5147 - accuracy: 0.9100 - val_loss: 0.4543 - val_accuracy: 0.9237\n",
      "Epoch 3/3\n",
      "13/14 [==========================>...] - ETA: 27s - loss: 0.4693 - accuracy: 0.9100\n",
      "Epoch 00003: val_loss improved from 0.45432 to 0.42756, saving model to checkpoints\\ckpt-0003-0.4276.hdf5\n",
      "14/14 [==============================] - 395s 28s/step - loss: 0.4680 - accuracy: 0.9100 - val_loss: 0.4276 - val_accuracy: 0.9237\n"
     ]
    }
   ],
   "source": [
    "trainer = Trainer(model, ckpt_dir, learning_rate, epochs, class_weight)\n",
    "trainer.train(\n",
    "    data_loader.iter_train_batch_data(batch_size), train_steps,\n",
    "    data_loader.iter_valid_batch_data(batch_size), valid_steps\n",
    ")"
   ]
  },
  {
   "cell_type": "code",
   "execution_count": 7,
   "metadata": {},
   "outputs": [
    {
     "name": "stdout",
     "output_type": "stream",
     "text": [
      "WARNING:tensorflow:sample_weight modes were coerced from\n",
      "  ...\n",
      "    to  \n",
      "  ['...']\n",
      "5/5 [==============================] - 13s 3s/step - loss: 0.4872 - accuracy: 0.8904\n"
     ]
    }
   ],
   "source": [
    "trainer.test(data_loader.iter_test_batch_data(batch_size), test_steps)"
   ]
  },
  {
   "cell_type": "code",
   "execution_count": 8,
   "metadata": {},
   "outputs": [],
   "source": [
    "test_batch_iter = data_loader.iter_test_batch_data(batch_size, repeat=False)\n",
    "\n",
    "result = []\n",
    "for x, y in test_batch_iter:\n",
    "    pred = model.predict(x)\n",
    "    y_hat = (pred > 0.5) * 1\n",
    "\n",
    "    result.append(np.vstack([y.squeeze(), y_hat.squeeze()]).T)\n",
    "    \n",
    "result = np.vstack(result)"
   ]
  },
  {
   "cell_type": "code",
   "execution_count": 9,
   "metadata": {},
   "outputs": [
    {
     "data": {
      "text/plain": [
       "2227"
      ]
     },
     "execution_count": 9,
     "metadata": {},
     "output_type": "execute_result"
    }
   ],
   "source": [
    "len(result)"
   ]
  },
  {
   "cell_type": "code",
   "execution_count": 10,
   "metadata": {},
   "outputs": [
    {
     "data": {
      "text/plain": [
       "array([244,   0])"
      ]
     },
     "execution_count": 10,
     "metadata": {},
     "output_type": "execute_result"
    }
   ],
   "source": [
    "result.sum(axis=0)"
   ]
  },
  {
   "cell_type": "code",
   "execution_count": null,
   "metadata": {},
   "outputs": [],
   "source": []
  }
 ],
 "metadata": {
  "kernelspec": {
   "display_name": "Python [conda env:tf2] *",
   "language": "python",
   "name": "conda-env-tf2-py"
  },
  "language_info": {
   "codemirror_mode": {
    "name": "ipython",
    "version": 3
   },
   "file_extension": ".py",
   "mimetype": "text/x-python",
   "name": "python",
   "nbconvert_exporter": "python",
   "pygments_lexer": "ipython3",
   "version": "3.7.7"
  }
 },
 "nbformat": 4,
 "nbformat_minor": 4
}
